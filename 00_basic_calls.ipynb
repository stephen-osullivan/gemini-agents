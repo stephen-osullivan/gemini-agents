{
 "cells": [
  {
   "cell_type": "code",
   "execution_count": 2,
   "metadata": {},
   "outputs": [
    {
     "name": "stderr",
     "output_type": "stream",
     "text": [
      "WARNING: All log messages before absl::InitializeLog() is called are written to STDERR\n",
      "I0000 00:00:1722594824.613966   13874 check_gcp_environment.cc:61] BIOS data file does not exist or cannot be opened.\n"
     ]
    },
    {
     "name": "stdout",
     "output_type": "stream",
     "text": [
      "Here are some concise names for a dried flower shop:\n",
      "\n",
      "* **Everlasting Blooms**\n",
      "* **Dried & Lovely**\n",
      "* **The Bloomery**\n",
      "* **Withered Wonders**\n",
      "* **The Petal Press** \n",
      "* **Forever Flowers** \n",
      "* **Bloom & Preserve**\n",
      "* **Dried Blooms Co.** \n",
      "\n"
     ]
    }
   ],
   "source": [
    "import vertexai\n",
    "from vertexai.generative_models import GenerativeModel\n",
    "\n",
    "# call vertex ai with a simple prompt\n",
    "\n",
    "vertexai.init(location=\"europe-west2\")\n",
    "model = GenerativeModel(\"gemini-1.5-flash-001\")\n",
    "response = model.generate_content(\n",
    "    \"What's a good name for a flower shop that specializes in selling bouquets of dried flowers? Please keep your answer concise.\"\n",
    ")\n",
    "print(response.text)"
   ]
  },
  {
   "cell_type": "code",
   "execution_count": 3,
   "metadata": {},
   "outputs": [
    {
     "data": {
      "text/plain": [
       "\"It's impossible to definitively say who will be running against Donald Trump in the 2024 presidential election, as the race is still very early and the field of candidates is constantly changing.\\n\\nHowever, some of the most prominent names being discussed as potential opponents to Trump include:\\n\\n**From the Democratic Party:**\\n\\n* **Joe Biden:**  The current president is widely expected to run for re-election. \\n* **Kamala Harris:** The current vice president is a potential contender, though her chances are uncertain.\\n* **Other potential candidates:**  Other names being mentioned include Transportation Secretary Pete Buttigieg, Senators Bernie Sanders, Elizabeth Warren, and Amy Klobuchar.\\n\\n**From the Republican Party:**\\n\\n* **Ron DeSantis:** The governor of Florida is seen as a formidable challenger to Trump.\\n* **Mike Pence:** The former vice president has expressed interest in running.\\n* **Other potential candidates:** Other Republicans who could enter the race include former South Carolina Governor Nikki Haley, Senator Tim Scott, and former Secretary of State Mike Pompeo.\\n\\nIt's important to note that this list is not exhaustive, and there may be other candidates who emerge in the months leading up to the election. The 2024 presidential race is likely to be highly competitive and unpredictable, and the field of candidates will continue to evolve in the coming months. \\n\""
      ]
     },
     "execution_count": 3,
     "metadata": {},
     "output_type": "execute_result"
    }
   ],
   "source": [
    "def get_response(prompt):\n",
    "    # quick function to get responses\n",
    "    response = model.generate_content(prompt)\n",
    "    return response.text\n",
    "\n",
    "# response is out of data. Correct answer at this time is Kamala Harris\n",
    "get_response('Can you tell me who is running against Donald Trump for the presidency in 2024?')"
   ]
  },
  {
   "cell_type": "code",
   "execution_count": 6,
   "metadata": {},
   "outputs": [
    {
     "name": "stdout",
     "output_type": "stream",
     "text": [
      "I am a large language model, and I do not have access to the internet or any external websites. I can only access and process information that I have been trained on. \n",
      "\n",
      "Therefore, I cannot perform actions like:\n",
      "\n",
      "* **Browsing the web**\n",
      "* **Retrieving information from specific websites**\n",
      "* **Accessing external databases**\n",
      "* **Interacting with external systems**\n",
      "\n",
      "My knowledge is based on the data I was trained on, which is a massive dataset of text and code. I can use this knowledge to answer your questions, generate different creative text formats,  and translate languages. \n",
      "\n",
      "If you need information from the web, please use a web browser or search engine. \n",
      "\n"
     ]
    }
   ],
   "source": [
    "print(get_response('Do you external web access?'))"
   ]
  },
  {
   "cell_type": "code",
   "execution_count": null,
   "metadata": {},
   "outputs": [],
   "source": []
  }
 ],
 "metadata": {
  "kernelspec": {
   "display_name": ".venv",
   "language": "python",
   "name": "python3"
  },
  "language_info": {
   "codemirror_mode": {
    "name": "ipython",
    "version": 3
   },
   "file_extension": ".py",
   "mimetype": "text/x-python",
   "name": "python",
   "nbconvert_exporter": "python",
   "pygments_lexer": "ipython3",
   "version": "3.10.6"
  }
 },
 "nbformat": 4,
 "nbformat_minor": 2
}
